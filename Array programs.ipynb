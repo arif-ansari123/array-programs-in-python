{
 "cells": [
  {
   "cell_type": "markdown",
   "metadata": {},
   "source": [
    "# Array Programs:"
   ]
  },
  {
   "cell_type": "markdown",
   "metadata": {},
   "source": [
    "# Python Program to find sum of array"
   ]
  },
  {
   "cell_type": "code",
   "execution_count": null,
   "metadata": {},
   "outputs": [],
   "source": [
    "#assign arrray\n",
    "a=[]\n",
    "#assign size of array\n",
    "n=int(input(\"enter a element\"))\n",
    "sum=0\n",
    "#first loop is to add element in the array\n",
    "for j in range(0,n):\n",
    "    k=int(input())\n",
    "    a.append(k)\n",
    "    print(a)\n",
    "#second loop is to sum all element     \n",
    "for i in a:\n",
    "    sum=sum+i\n",
    "print(sum)   "
   ]
  },
  {
   "cell_type": "markdown",
   "metadata": {},
   "source": [
    "# Python Program to find largest element in an array"
   ]
  },
  {
   "cell_type": "code",
   "execution_count": null,
   "metadata": {},
   "outputs": [],
   "source": [
    "#assign arrray\n",
    "a=[]\n",
    "#assign size of array\n",
    "n=int(input(\"enter a element\"))\n",
    "sum=0\n",
    "#first loop is to add element in the array\n",
    "for j in range(0,n):\n",
    "    k=int(input())\n",
    "    a.append(k)\n",
    "    print(a)\n",
    "max(a)    \n",
    "\n",
    "#------------------------------------------------------------\n",
    "#function to find largest number\n",
    "def larg(arr,n):\n",
    "    lar=arr[0]\n",
    "    for i in range(1,n):\n",
    "        if lar<arr[i]:\n",
    "            lar=arr[i]\n",
    "    return lar\n",
    "\n",
    "\n",
    "arr=[]\n",
    "n=int(input(\"Enter the number of element\"))\n",
    "for i in range(1,n):\n",
    "    ele=int(input())\n",
    "    arr.append(ele)\n",
    "print(arr)\n",
    "#length of the array\n",
    "n=len(arr)\n",
    "#passing argument as a array and length of the array\n",
    "ans=larg(arr,n)\n",
    "print(\"the largest number in the array is  \",ans)\n",
    "    \n",
    "\n",
    "    "
   ]
  },
  {
   "cell_type": "markdown",
   "metadata": {},
   "source": [
    "# Python Program for array rotation"
   ]
  },
  {
   "cell_type": "markdown",
   "metadata": {},
   "source": [
    "# logic behind this program:\n",
    "    a=[1,2,3,4,5]\n",
    "    if we say k=-1 than one element jump from front to last\n",
    "    a=[2,3,4,5,1]\n",
    "    if we say k=0 than element will be same\n",
    "    a=[1,2,3,4,5]\n",
    "    if we say k=1 than one element will be jump from last  to first\n",
    "    a=[5,1,2,3,4]\n",
    "    if we say k=2 than two element will be jump from last  to first\n",
    "    a=[4,5,1,2,3]\n",
    "    if we say k=3 than three element will be jump from last  to first\n",
    "    a=[3,4,5,1,2]\n",
    "    if we say k=4 than four element will be jump from last  to first\n",
    "    a=[2,3,4,5,1]\n",
    "    if we say k=5 than five element will be jump from last  to first\n",
    "    a=[1,2,3,4,5]\n",
    "    the meaning of the logic is a[0]==len(a)\n",
    "    *one logic we get k=k%a.lenght\n",
    "    *second logic we get to deal with negative number than:\n",
    "        if k<0:\n",
    "            k+=a.lenght"
   ]
  },
  {
   "cell_type": "code",
   "execution_count": null,
   "metadata": {},
   "outputs": [],
   "source": [
    "def rotate(arr,n,k):\n",
    "    k=k%n\n",
    "    if k<0:\n",
    "        k+=n\n",
    "    for i in range(k):\n",
    "        temp=arr[n-1]\n",
    "        for j in reversed(range(n-1)):\n",
    "            arr[j+1]=arr[j]\n",
    "        arr[0]=temp    \n",
    "    return arr  \n",
    "def main():\n",
    "    n=int(input())\n",
    "    arr=[]\n",
    "    for i in range(n):\n",
    "        val=int(input())\n",
    "        arr.append(val)\n",
    "    k=int(intput())\n",
    "    arr=rotate(arr,n,k)\n",
    "    for i in range(n):\n",
    "        print(arr[i],end=\" \")\n",
    "     \n",
    "main()   \n",
    "#---------------------------------------------------------\n",
    "#another method of reverse \n",
    "a=[]\n",
    "n=int(input(\"enter the element\"))\n",
    "for j in range(n):\n",
    "    b=int(input())\n",
    "    a.append(b)\n",
    "print(a) \n",
    "i=0\n",
    "k=n-1\n",
    "while(i<k):\n",
    "    t=a[i]\n",
    "    a[i]=a[k]\n",
    "    a[k]=t\n",
    "    i=i+1\n",
    "    k=k-1\n",
    "print(\"the reverse array is : \")\n",
    "for i in range(n):\n",
    "    print(a[i])\n",
    "print(a)   "
   ]
  },
  {
   "cell_type": "markdown",
   "metadata": {},
   "source": [
    "# Python Program for Reversal algorithm for array rotation"
   ]
  },
  {
   "cell_type": "code",
   "execution_count": null,
   "metadata": {},
   "outputs": [],
   "source": [
    "#Array Rotationalby reversal algorithm\n",
    "#1.reverse the whole array -->[8,7,6,5,4,3,2,1]\n",
    "#2.reverse the first k element in the array-->[6,7,8,5,4,3,2,1]\n",
    "#3.reverse the remaining -->[6,7,8,1,2,3,4,5]\n",
    "arr=[1,2,3,4,5,6,7,8]\n",
    "def reverse(arr,start,end):\n",
    "    while start<end:\n",
    "        arr[start],arr[end]=arr[end],arr[start]\n",
    "        start=start+1\n",
    "        end = end-1\n",
    "def rotate(arr,k):\n",
    "    n=len(arr)\n",
    "    k%=n\n",
    "    reverse(arr,0,n-1)\n",
    "    reverse(arr,0,k-1)\n",
    "    reverse(arr,k,n-1)\n",
    "    return arr\n",
    "print(rotate(arr,3))\n",
    "        \n",
    "    "
   ]
  },
  {
   "cell_type": "markdown",
   "metadata": {},
   "source": [
    "# Python Program to Split the array and add the first part to the end"
   ]
  },
  {
   "cell_type": "code",
   "execution_count": null,
   "metadata": {},
   "outputs": [],
   "source": [
    "def splitarray(arr,n,k):\n",
    "    for i in range(0,k):\n",
    "        x=arr[0]\n",
    "        for j in range(0,n-1):\n",
    "            arr[j]=arr[j+1]\n",
    "        arr[n-1]=x    \n",
    "arr=[25,24,34,45,36]\n",
    "position=2\n",
    "n=len(arr)\n",
    "a=splitarray(arr,n,position)\n",
    "for m in range(0,n):\n",
    "    print(arr[m],end=\" \")"
   ]
  },
  {
   "cell_type": "markdown",
   "metadata": {},
   "source": [
    "# Python Program for Find remainder of array multiplication divided by n"
   ]
  },
  {
   "cell_type": "code",
   "execution_count": null,
   "metadata": {},
   "outputs": [],
   "source": [
    "arr = [100, 10, 5, 25, 35, 14];lens = len(arr);n = 11\n",
    "mul = 1\n",
    "for i in range(lens):\n",
    "    mul = (mul * (arr[i] % n)) % n\n",
    "print(mul % n)"
   ]
  },
  {
   "cell_type": "markdown",
   "metadata": {},
   "source": [
    "# Python Program to check if given array is Monotonic"
   ]
  },
  {
   "cell_type": "code",
   "execution_count": null,
   "metadata": {},
   "outputs": [],
   "source": [
    "# Check if given array is Monotonic\n",
    "def isMonotonic(A):\n",
    "    x, y = [], []\n",
    "    x.extend(A)\n",
    "    y.extend(A)\n",
    "    x.sort()\n",
    "    y.sort(reverse=True)\n",
    "    if(x == A or y == A):\n",
    "        return True\n",
    "    return False\n",
    " \n",
    " \n",
    "# Driver program\n",
    "A = [6, 5, 4, 4]\n",
    " \n",
    "# Print required result\n",
    "print(isMonotonic(A))"
   ]
  }
 ],
 "metadata": {
  "kernelspec": {
   "display_name": "Python 3",
   "language": "python",
   "name": "python3"
  },
  "language_info": {
   "codemirror_mode": {
    "name": "ipython",
    "version": 3
   },
   "file_extension": ".py",
   "mimetype": "text/x-python",
   "name": "python",
   "nbconvert_exporter": "python",
   "pygments_lexer": "ipython3",
   "version": "3.8.5"
  }
 },
 "nbformat": 4,
 "nbformat_minor": 4
}
